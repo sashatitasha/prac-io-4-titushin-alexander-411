{
  "nbformat": 4,
  "nbformat_minor": 0,
  "metadata": {
    "colab": {
      "provenance": []
    },
    "kernelspec": {
      "name": "python3",
      "display_name": "Python 3"
    },
    "language_info": {
      "name": "python"
    }
  },
  "cells": [
    {
      "cell_type": "code",
      "source": [
        "import numpy as np\n",
        "from typing import List, Tuple\n",
        "\n",
        "class TransportProblem:\n",
        "    def __init__(self, main_table: np.ndarray, reserves: np.ndarray, needs: np.ndarray):\n",
        "        \"\"\"\n",
        "        main_table: Таблица стоимостей перевозок, где элемент c_ij - стоимость перевозки единицы груза от поставщика i к потребителю j\n",
        "        reserves: Запасы поставщиков, где элемент a_i - объем запаса поставщика i\n",
        "        needs: Потребности потребителей, где элемент b_j - объем потребности потребителя j\n",
        "        \"\"\"\n",
        "        self.main_table = main_table\n",
        "        self.reserves = reserves\n",
        "        self.needs = needs\n",
        "\n",
        "    def add_dummy_supplier(self, volume):\n",
        "        \"\"\"\n",
        "        Добавление фиктивного поставщика\n",
        "        volume: Объем запаса фиктивного поставщика.\n",
        "\n",
        "        Фиктивный поставщик добавляется, если сумма запасов меньше суммы потребностей\n",
        "        Его стоимость перевозок равна нулю, чтобы не влиять на общую стоимость\n",
        "        \"\"\"\n",
        "        # Добавляем строку нулевых стоимостей для фиктивного поставщика\n",
        "        dummy_row = np.zeros(self.main_table.shape[1])\n",
        "        self.main_table = np.vstack([self.main_table, dummy_row])\n",
        "        # Добавляем запас фиктивного поставщика\n",
        "        self.reserves = np.append(self.reserves, volume)\n",
        "\n",
        "    def add_dummy_customer(self, volume):\n",
        "        \"\"\"\n",
        "        Добавление фиктивного потребителя\n",
        "        volume: Объем потребности фиктивного потребителя\n",
        "\n",
        "        Фиктивный потребитель добавляется, если сумма запасов больше суммы потребностей\n",
        "        Его стоимость перевозок равна нулю, чтобы не влиять на общую стоимость\n",
        "        \"\"\"\n",
        "        # Добавляем столбец нулевых стоимостей для фиктивного потребителя\n",
        "        dummy_column = np.zeros((self.main_table.shape[0], 1))\n",
        "        self.main_table = np.hstack([self.main_table, dummy_column])\n",
        "        # Добавляем потребность фиктивного потребителя\n",
        "        self.needs = np.append(self.needs, volume)\n",
        "\n",
        "    def balance(self):\n",
        "        \"\"\"\n",
        "        Балансировка задачи: добавление фиктивных поставщиков или потребителей\n",
        "        Необходимо для приведения задачи к закрытому виду, где сумма запасов равна сумме потребностей\n",
        "        \"\"\"\n",
        "        total_reserves = np.sum(self.reserves)\n",
        "        total_needs = np.sum(self.needs)\n",
        "\n",
        "        if total_reserves < total_needs:\n",
        "            # Добавляем фиктивного поставщика\n",
        "            self.add_dummy_supplier(total_needs - total_reserves)\n",
        "        elif total_reserves > total_needs:\n",
        "            # Добавляем фиктивного потребителя\n",
        "            self.add_dummy_customer(total_reserves - total_needs)\n",
        "\n",
        "    def recalculate_plan(self, transportation_table, cycle_path):\n",
        "        \"\"\"\n",
        "        Пересчитывание плана перевозок на основе найденного цикла\n",
        "        x: Таблица перевозок, где элемент x_ij - объем перевозки от поставщика i к потребителю j\n",
        "        cycle_path: (List[Tuple[int, int]]) Цикл для пересчета\n",
        "\n",
        "        Возвращает int число, величина пересчета (минимальное значение в клетках цикла)\n",
        "\n",
        "        Алгоритм:\n",
        "        1) Находим минимальное значение в клетках цикла\n",
        "        2) Перераспределяем объемы перевозок по циклу, увеличивая и уменьшая значения в соответствующих клетках\n",
        "        3) Обнуляем клетку с минимальным значением, чтобы исключить ее из базиса\n",
        "        \"\"\"\n",
        "        # Находим минимальное значение в клетках цикла\n",
        "        min_value = np.min([transportation_table[i][j] for i, j in cycle_path[1:-1:2]])\n",
        "        cells_with_min_value = [(i, j) for i, j in cycle_path[1:-1:2] if np.isnan(transportation_table[i][j]) or transportation_table[i][j] == min_value]\n",
        "\n",
        "        # Если минимальное значение NaN, обрабатываем особый случай\n",
        "        if np.isnan(min_value):\n",
        "            i, j = cycle_path[0]\n",
        "            transportation_table[i][j] = np.nan\n",
        "            i, j = cells_with_min_value[0]\n",
        "            transportation_table[i][j] = 0\n",
        "\n",
        "            return min_value\n",
        "\n",
        "        # Пересчитываем значения в клетках цикла\n",
        "        for step, (i, j) in enumerate(cycle_path[:-1]):\n",
        "            if (i, j) in cells_with_min_value:\n",
        "                if cells_with_min_value.index((i, j)) == 0:\n",
        "                    transportation_table[i][j] = 0\n",
        "                else:\n",
        "                    transportation_table[i][j] = np.nan\n",
        "                continue\n",
        "\n",
        "            if np.isnan(transportation_table[i][j]):\n",
        "                transportation_table[i][j] = 0\n",
        "\n",
        "            if step % 2 == 0:\n",
        "                transportation_table[i][j] += min_value  # Увеличиваем объем в четных клетках цикла\n",
        "            else:\n",
        "                transportation_table[i][j] -= min_value  # Уменьшаем объем в нечетных клетках цикла\n",
        "\n",
        "        return min_value\n",
        "\n",
        "    def calculate_potentials(self, x, u, v):\n",
        "        \"\"\"\n",
        "        Вычисление потенциалов для таблицы перевозок\n",
        "        x: Таблица перевозок\n",
        "        u: Потенциалы строк\n",
        "        v: Потенциалы столбцов\n",
        "\n",
        "        Алгоритм:\n",
        "        1) Потенциалы u_i и v_j вычисляются по формуле u_i + v_j = c_ij для базисных клеток\n",
        "        2) Начинаем с u[0] = 0 и вычисляем остальные потенциалы, используя базисные клетки\n",
        "        \"\"\"\n",
        "        m, n = x.shape\n",
        "        u[:] = np.nan\n",
        "        v[:] = np.nan\n",
        "        u[0] = 0  # Начальное значение потенциала первой строки\n",
        "\n",
        "        # Вычисляем потенциалы по формуле u_i + v_j = c_ij, пока все они не будут определены\n",
        "        while np.any(np.isnan(u)) or np.any(np.isnan(v)):\n",
        "            for i in range(m):\n",
        "                for j in range(n):\n",
        "                    if not np.isnan(u[i]) and np.isnan(v[j]) and x[i][j] != 0:\n",
        "                        v[j] = self.main_table[i][j] - u[i]\n",
        "                    elif np.isnan(u[i]) and not np.isnan(v[j]) and x[i][j] != 0:\n",
        "                        u[i] = self.main_table[i][j] - v[j]\n",
        "\n",
        "    def is_optimal(self, x, u, v):\n",
        "        \"\"\"\n",
        "        Проверка, является ли текущий план оптимальным\n",
        "        x: Таблица перевозок\n",
        "        u: Потенциалы строк\n",
        "        v: Потенциалы столбцов\n",
        "\n",
        "        Возвращает True, если план оптимален, иначе False\n",
        "\n",
        "        Условие оптимальности:\n",
        "        Для всех свободных клеток (x_ij = 0) должно выполняться: u_i + v_j <= c_ij\n",
        "        Если это условие нарушается, план не оптимален\n",
        "        \"\"\"\n",
        "        m, n = x.shape\n",
        "        for i in range(m):\n",
        "            for j in range(n):\n",
        "                if x[i][j] == 0 and u[i] + v[j] > self.main_table[i][j]:\n",
        "                    return False\n",
        "        return True\n",
        "\n",
        "    def solve(self):\n",
        "        \"\"\"\n",
        "        Основная функция-решение транспортной задачи методом потенциалов\n",
        "\n",
        "        Возвращает np.ndarray оптимальный план перевозок\n",
        "\n",
        "        Алгоритм:\n",
        "        1) Балансировка задачи\n",
        "        2) Построение начального базисного решения методом северо-западного угла\n",
        "        3) Улучшение плана:\n",
        "           - Вычисление потенциалов\n",
        "           - Проверка оптимальности\n",
        "           - Поиск цикла и пересчет плана\n",
        "        \"\"\"\n",
        "        # Балансировка задачи\n",
        "        self.balance()\n",
        "\n",
        "        m, n = self.main_table.shape\n",
        "        x = np.zeros((m, n))  # Таблица перевозок\n",
        "        u = np.zeros(m)  # Потенциалы строк\n",
        "        v = np.zeros(n)  # Потенциалы столбцов\n",
        "\n",
        "        # Начальное базисное решение методом северо-западного угла (минимальное находим)\n",
        "        i, j = 0, 0\n",
        "        while i < m and j < n:\n",
        "            x[i][j] = min(self.reserves[i], self.needs[j])\n",
        "            self.reserves[i] -= x[i][j]\n",
        "            self.needs[j] -= x[i][j]\n",
        "            if self.reserves[i] == 0:\n",
        "                i += 1\n",
        "            else:\n",
        "                j += 1\n",
        "\n",
        "        # Улучшаем план пока не будет оптимальным\n",
        "        while True:\n",
        "            self.calculate_potentials(x, u, v)\n",
        "            if self.is_optimal(x, u, v):\n",
        "                break\n",
        "\n",
        "            # Находим клетку для улучшения, не проходящую условия оптимальности\n",
        "            for i in range(m):\n",
        "                for j in range(n):\n",
        "                    if x[i][j] == 0 and u[i] + v[j] > self.main_table[i][j]:\n",
        "                        start_pos = (i, j)\n",
        "                        break\n",
        "\n",
        "            # Находим цикл и пересчитываем план\n",
        "            cycle_path = self.find_cycle_path(x, start_pos)\n",
        "            self.recalculate_plan(x, cycle_path)\n",
        "\n",
        "        return x\n",
        "\n",
        "    def find_cycle_path(self, x, start_pos):\n",
        "        \"\"\"\n",
        "        Нахождение цикла в таблице перевозок, начиная с заданной позиции\n",
        "        x: Таблица перевозок\n",
        "        start_pos: (Tuple[int, int]) начальная позиция для поиска цикла\n",
        "\n",
        "        Возвращает List[Tuple[int, int]] список позиций, образующих цикл\n",
        "\n",
        "        Алгоритм:\n",
        "        1) Начинаем с начальной позиции и перемещаемся по строкам и столбцам, используя занятые клетки\n",
        "        2) Возвращаемся в начальную позицию, завершая цикл\n",
        "        \"\"\"\n",
        "        def get_posible_moves(bool_table, path):\n",
        "            \"\"\"\n",
        "            Возвращает возможные ходы для построения цикла\n",
        "            bool_table: Логическая таблица, где True обозначает доступные клетки\n",
        "            path: (List[Tuple[int, int]]) Текущий путь\n",
        "\n",
        "            Возвращает список возможных ходов\n",
        "            \"\"\"\n",
        "            posible_moves = np.full(bool_table.shape, False)\n",
        "\n",
        "            current_pos = path[-1]\n",
        "            prev_pos = path[-2] if len(path) > 1 else (np.nan, np.nan)\n",
        "\n",
        "            # Разрешаем ходы по строке и столбцу\n",
        "            if current_pos[0] != prev_pos[0]:\n",
        "                posible_moves[current_pos[0]] = True\n",
        "\n",
        "            if current_pos[1] != prev_pos[1]:\n",
        "                posible_moves[:, current_pos[1]] = True\n",
        "\n",
        "            return list(zip(*np.nonzero(posible_moves * bool_table)))\n",
        "\n",
        "        res = [start_pos]\n",
        "        bool_table = x != 0\n",
        "\n",
        "        while True:\n",
        "            current_pos = res[-1]\n",
        "\n",
        "            # Помечаем текущую позицию как посещенную\n",
        "            bool_table[current_pos[0]][current_pos[1]] = False\n",
        "\n",
        "            # Если длина пути больше 3, разрешаем вернуться в начальную позицию\n",
        "            if len(res) > 3:\n",
        "                bool_table[start_pos[0]][start_pos[1]] = True\n",
        "\n",
        "            # Получаем возможные ходы\n",
        "            posible_moves = get_posible_moves(bool_table, res)\n",
        "\n",
        "            # Если начальная позиция доступна, завершаем цикл\n",
        "            if start_pos in posible_moves:\n",
        "                res.append(start_pos)\n",
        "                return res\n",
        "\n",
        "            # Если нет возможных ходов, сбрасываем путь\n",
        "            if not posible_moves:\n",
        "                for i, j in res[1:-1]:\n",
        "                    bool_table[i][j] = True\n",
        "\n",
        "                res = [start_pos]\n",
        "                continue\n",
        "\n",
        "            # Добавляем следующий ход в путь\n",
        "            res.append(posible_moves[0])"
      ],
      "metadata": {
        "id": "d2wvDRZfMtYP"
      },
      "execution_count": 188,
      "outputs": []
    },
    {
      "cell_type": "markdown",
      "source": [
        "Все наборы данных для тестов взяты с различных сайтов-примеров и ютуб гайдов по решению подобных задач, ответы полностью совпали с ними"
      ],
      "metadata": {
        "id": "-gAVNT_CZu5Q"
      }
    },
    {
      "cell_type": "markdown",
      "source": [
        "Пример 1 https://galyautdinov.ru/post/transportnaya-zadacha"
      ],
      "metadata": {
        "id": "S2eKdNZpaM8u"
      }
    },
    {
      "cell_type": "code",
      "source": [
        "# Пример 1 сбалансированная задача\n",
        "main_table = np.array([[5, 3, 1], [3, 2, 4], [4, 1, 2]])\n",
        "needs = np.array([15, 20, 25])\n",
        "reserves = np.array([10, 20, 30])\n",
        "\n",
        "problem = TransportProblem(main_table, reserves, needs)\n",
        "solution = problem.solve()\n",
        "\n",
        "print(\"Оптимальная транспортировка: \\n\", solution)\n",
        "cost = np.sum(problem.main_table * solution)\n",
        "print(\"\\n Затраты на перевозку: \", cost)"
      ],
      "metadata": {
        "colab": {
          "base_uri": "https://localhost:8080/"
        },
        "id": "lxbx-mKxV6NU",
        "outputId": "6f6044f0-233f-4acd-8159-68ca6968982b"
      },
      "execution_count": 189,
      "outputs": [
        {
          "output_type": "stream",
          "name": "stdout",
          "text": [
            "Оптимальная транспортировка: \n",
            " [[ 0.  0. 10.]\n",
            " [15.  5.  0.]\n",
            " [ 0. 15. 15.]]\n",
            "\n",
            " Затраты на перевозку:  110.0\n"
          ]
        }
      ]
    },
    {
      "cell_type": "markdown",
      "source": [
        "Примеры 2 и 3 https://youtu.be/8SjsPTSx6rw?si=k0VoHYVHyNqloh2h"
      ],
      "metadata": {
        "id": "j4nDXupDaokL"
      }
    },
    {
      "cell_type": "code",
      "source": [
        "# Пример 2 Фиктивный поставщик\n",
        "main_table = np.array([[6, 5, 2], [3, 7, 4], [7, 8, 1], [2, 2, 3]])\n",
        "needs = np.array([150, 150, 250])\n",
        "reserves = np.array([250, 100, 80, 80])\n",
        "\n",
        "problem = TransportProblem(main_table, reserves, needs)\n",
        "solution = problem.solve()\n",
        "\n",
        "print(\"Оптимальная транспортировка: \\n\", solution)\n",
        "cost = np.sum(problem.main_table * solution)\n",
        "print(\"\\n Затраты на перевозку: \", cost)"
      ],
      "metadata": {
        "colab": {
          "base_uri": "https://localhost:8080/"
        },
        "id": "k80OeK8YS__j",
        "outputId": "fe1f24c2-0ca5-493a-a749-6e0a993fc1c5"
      },
      "execution_count": 190,
      "outputs": [
        {
          "output_type": "stream",
          "name": "stdout",
          "text": [
            "Оптимальная транспортировка: \n",
            " [[  0.  80. 170.]\n",
            " [100.   0.   0.]\n",
            " [  0.   0.  80.]\n",
            " [ 50.  30.   0.]\n",
            " [  0.  40.   0.]]\n",
            "\n",
            " Затраты на перевозку:  1280.0\n"
          ]
        }
      ]
    },
    {
      "cell_type": "code",
      "source": [
        "# Пример 3 Фиктивный потребитель\n",
        "main_table = np.array([[6, 5, 2], [3, 7, 4], [7, 8, 1], [2, 2, 3]])\n",
        "needs = np.array([150, 150, 200])\n",
        "reserves = np.array([250, 100, 100, 100])\n",
        "\n",
        "problem = TransportProblem(main_table, reserves, needs)\n",
        "solution = problem.solve()\n",
        "\n",
        "print(\"Оптимальная транспортировка: \\n\", solution)\n",
        "cost = np.sum(problem.main_table * solution)\n",
        "print(\"\\n Затраты на перевозку: \", cost)"
      ],
      "metadata": {
        "colab": {
          "base_uri": "https://localhost:8080/"
        },
        "id": "2zEFmon8W07h",
        "outputId": "f89b649e-14c3-4008-c86f-d27a21042146"
      },
      "execution_count": 191,
      "outputs": [
        {
          "output_type": "stream",
          "name": "stdout",
          "text": [
            "Оптимальная транспортировка: \n",
            " [[  0. 100. 100.  50.]\n",
            " [100.   0.   0.   0.]\n",
            " [  0.   0. 100.   0.]\n",
            " [ 50.  50.   0.   0.]]\n",
            "\n",
            " Затраты на перевозку:  1300.0\n"
          ]
        }
      ]
    },
    {
      "cell_type": "markdown",
      "source": [
        "Пример 4 https://youtu.be/1jBa_2IYDNY?si=RAebsowiSsOvu5NH"
      ],
      "metadata": {
        "id": "gNcI1cKgampl"
      }
    },
    {
      "cell_type": "code",
      "source": [
        "# Пример 4 Сбалансированная задача\n",
        "main_table = np.array([[1, 3, 2, 4], [2, 1, 4, 3], [3, 5, 6, 1]])\n",
        "needs = np.array([30, 10, 20, 40])\n",
        "reserves = np.array([35, 50, 15])\n",
        "\n",
        "problem = TransportProblem(main_table, reserves, needs)\n",
        "solution = problem.solve()\n",
        "\n",
        "print(\"Оптимальная транспортировка: \\n\", solution)\n",
        "cost = np.sum(problem.main_table * solution)\n",
        "print(\"\\n Затраты на перевозку: \", cost)"
      ],
      "metadata": {
        "colab": {
          "base_uri": "https://localhost:8080/"
        },
        "id": "wRTP06d_XNX_",
        "outputId": "c2fe633d-d04f-48d6-aa2b-5b150fc08afd"
      },
      "execution_count": 192,
      "outputs": [
        {
          "output_type": "stream",
          "name": "stdout",
          "text": [
            "Оптимальная транспортировка: \n",
            " [[15.  0. 20.  0.]\n",
            " [15. 10.  0. 25.]\n",
            " [ 0.  0.  0. 15.]]\n",
            "\n",
            " Затраты на перевозку:  185.0\n"
          ]
        }
      ]
    },
    {
      "cell_type": "markdown",
      "source": [
        "Пример 5 https://youtu.be/4AinFDRwOGU?si=y6k5QQofBRse4XCe"
      ],
      "metadata": {
        "id": "WvfU-pItajDw"
      }
    },
    {
      "cell_type": "code",
      "source": [
        "# Пример 5 большой размерности\n",
        "main_table = np.array([[80, 48, 110, 72], [73, 57, 95, 48], [25, 35, 68, 60], [60, 70, 82, 120], [115, 92, 74, 135]])\n",
        "needs = np.array([80, 150, 220, 160])\n",
        "reserves = np.array([110, 85, 75, 90, 250])\n",
        "\n",
        "problem = TransportProblem(main_table, reserves, needs)\n",
        "solution = problem.solve()\n",
        "\n",
        "print(\"Оптимальная транспортировка: \\n\", solution)\n",
        "cost = np.sum(problem.main_table * solution)\n",
        "print(\"\\n Затраты на перевозку: \", cost)"
      ],
      "metadata": {
        "colab": {
          "base_uri": "https://localhost:8080/"
        },
        "id": "qSoJA48RXpCY",
        "outputId": "3b367fe2-0d6e-4db6-83b8-5e3271055f5c"
      },
      "execution_count": 193,
      "outputs": [
        {
          "output_type": "stream",
          "name": "stdout",
          "text": [
            "Оптимальная транспортировка: \n",
            " [[  0.  35.   0.  75.]\n",
            " [  0.   0.   0.  85.]\n",
            " [ 75.   0.   0.   0.]\n",
            " [  5.  85.   0.   0.]\n",
            " [  0.  30. 220.   0.]]\n",
            "\n",
            " Затраты на перевозку:  38325.0\n"
          ]
        }
      ]
    }
  ]
}